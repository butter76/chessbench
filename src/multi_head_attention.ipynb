{
  "cells": [
    {
      "cell_type": "code",
      "execution_count": 2,
      "metadata": {},
      "outputs": [
        {
          "name": "stdout",
          "output_type": "stream",
          "text": [
            "PyTorch version: 2.7.1+cu128\n",
            "Device: cuda\n",
            "bfloat16 support: True\n"
          ]
        }
      ],
      "source": [
        "import torch\n",
        "import torch.nn as nn\n",
        "import torch.nn.functional as F\n",
        "import math\n",
        "import numpy as np\n",
        "import matplotlib.pyplot as plt\n",
        "import seaborn as sns\n",
        "\n",
        "# Set random seed for reproducibility\n",
        "torch.manual_seed(42)\n",
        "np.random.seed(42)\n",
        "\n",
        "print(\"PyTorch version:\", torch.__version__)\n",
        "device = torch.device(\"cuda\" if torch.cuda.is_available() else \"cpu\")\n",
        "print(\"Device:\", device)\n",
        "print(\"bfloat16 support:\", torch.cuda.is_bf16_supported() if torch.cuda.is_available() else \"N/A\")\n"
      ]
    },
    {
      "cell_type": "code",
      "execution_count": 3,
      "metadata": {},
      "outputs": [],
      "source": [
        "class MultiHeadAttention(nn.Module):\n",
        "    \"\"\"\n",
        "    Multi-Head Attention mechanism implementation.\n",
        "    \n",
        "    Args:\n",
        "        d_model (int): Dimension of the model/embedding\n",
        "        num_heads (int): Number of attention heads\n",
        "        dropout (float): Dropout probability\n",
        "        dtype: Data type for the model (default: torch.bfloat16)\n",
        "    \"\"\"\n",
        "    \n",
        "    def __init__(self, d_model, num_heads, dropout=0.1, dtype=torch.bfloat16):\n",
        "        super(MultiHeadAttention, self).__init__()\n",
        "        \n",
        "        assert d_model % num_heads == 0, \"d_model must be divisible by num_heads\"\n",
        "        \n",
        "        self.d_model = d_model\n",
        "        self.num_heads = num_heads\n",
        "        self.d_k = d_model // num_heads  # Dimension of each head\n",
        "        self.dtype = dtype\n",
        "        \n",
        "        # Linear transformations for Q, K, V\n",
        "        self.w_q = nn.Linear(d_model, d_model, dtype=dtype)\n",
        "        self.w_k = nn.Linear(d_model, d_model, dtype=dtype)\n",
        "        self.w_v = nn.Linear(d_model, d_model, dtype=dtype)\n",
        "        \n",
        "        # Output projection\n",
        "        self.w_o = nn.Linear(d_model, d_model, dtype=dtype)\n",
        "        \n",
        "        # Dropout\n",
        "        self.dropout = nn.Dropout(dropout)\n",
        "        \n",
        "        # Initialize weights\n",
        "        self._init_weights()\n",
        "    \n",
        "    def _init_weights(self):\n",
        "        \"\"\"Initialize weights using Xavier uniform initialization\"\"\"\n",
        "        for module in [self.w_q, self.w_k, self.w_v, self.w_o]:\n",
        "            nn.init.xavier_uniform_(module.weight)\n",
        "            nn.init.zeros_(module.bias)\n",
        "    \n",
        "    def scaled_dot_product_attention(self, Q, K, V, mask=None):\n",
        "        \"\"\"\n",
        "        Compute scaled dot-product attention.\n",
        "        \n",
        "        Args:\n",
        "            Q, K, V: Query, Key, Value tensors of shape (batch_size, num_heads, seq_len, d_k)\n",
        "            mask: Optional mask tensor\n",
        "            \n",
        "        Returns:\n",
        "            attention_output: Weighted values\n",
        "            attention_weights: Attention weights for visualization\n",
        "        \"\"\"\n",
        "        batch_size, num_heads, seq_len, d_k = Q.size()\n",
        "        \n",
        "        # Compute attention scores (ensure proper scaling for bfloat16)\n",
        "        scale = math.sqrt(d_k)\n",
        "        scores = torch.matmul(Q, K.transpose(-2, -1)) / scale\n",
        "        \n",
        "        # Apply mask if provided\n",
        "        if mask is not None:\n",
        "            # Expand mask to match the shape of scores\n",
        "            mask = mask.unsqueeze(1).unsqueeze(1)  # (batch_size, 1, 1, seq_len)\n",
        "            # Use a smaller negative value for bfloat16 to avoid overflow\n",
        "            mask_value = -65504.0 if self.dtype == torch.bfloat16 else -1e9\n",
        "            scores.masked_fill_(mask == 0, mask_value)\n",
        "        \n",
        "        # Apply softmax to get attention weights\n",
        "        attention_weights = F.softmax(scores, dim=-1)\n",
        "        attention_weights = self.dropout(attention_weights)\n",
        "        \n",
        "        # Apply attention weights to values\n",
        "        attention_output = torch.matmul(attention_weights, V)\n",
        "        \n",
        "        return attention_output, attention_weights\n",
        "    \n",
        "    def forward(self, query, key, value, mask=None):\n",
        "        \"\"\"\n",
        "        Forward pass of multi-head attention.\n",
        "        \n",
        "        Args:\n",
        "            query, key, value: Input tensors of shape (batch_size, seq_len, d_model)\n",
        "            mask: Optional mask tensor of shape (batch_size, seq_len)\n",
        "            \n",
        "        Returns:\n",
        "            output: Multi-head attention output\n",
        "            attention_weights: Attention weights for all heads\n",
        "        \"\"\"\n",
        "        batch_size, seq_len, d_model = query.size()\n",
        "        \n",
        "        # 1. Linear transformations and reshape for multi-head attention\n",
        "        Q = self.w_q(query).view(batch_size, seq_len, self.num_heads, self.d_k).transpose(1, 2)\n",
        "        K = self.w_k(key).view(batch_size, seq_len, self.num_heads, self.d_k).transpose(1, 2)\n",
        "        V = self.w_v(value).view(batch_size, seq_len, self.num_heads, self.d_k).transpose(1, 2)\n",
        "        \n",
        "        # 2. Apply scaled dot-product attention\n",
        "        attention_output, attention_weights = self.scaled_dot_product_attention(Q, K, V, mask)\n",
        "        \n",
        "        # 3. Concatenate heads and apply output projection\n",
        "        attention_output = attention_output.transpose(1, 2).contiguous().view(\n",
        "            batch_size, seq_len, d_model\n",
        "        )\n",
        "        \n",
        "        output = self.w_o(attention_output)\n",
        "        \n",
        "        return output, attention_weights\n"
      ]
    },
    {
      "cell_type": "code",
      "execution_count": 5,
      "metadata": {},
      "outputs": [
        {
          "name": "stdout",
          "output_type": "stream",
          "text": [
            "Configuration:\n",
            "Batch size: 1024\n",
            "Embedding dimension: 1024\n",
            "Number of heads: 64\n",
            "Head dimension: 16\n",
            "Sequence length: 64\n",
            "Device: cuda\n",
            "Data type: torch.bfloat16\n",
            "\n",
            "Input tensor shape: torch.Size([1024, 64, 1024])\n",
            "Input tensor dtype: torch.bfloat16\n",
            "Memory usage: 128.00 MB\n"
          ]
        }
      ],
      "source": [
        "# Setup profiling parameters\n",
        "batch_size = 1024\n",
        "d_model = 1024\n",
        "head_dim = 16\n",
        "num_heads = d_model // head_dim  # 64 heads\n",
        "seq_len = 64\n",
        "dtype = torch.bfloat16 if torch.cuda.is_available() and torch.cuda.is_bf16_supported() else torch.float32\n",
        "\n",
        "print(f\"Configuration:\")\n",
        "print(f\"Batch size: {batch_size}\")\n",
        "print(f\"Embedding dimension: {d_model}\")\n",
        "print(f\"Number of heads: {num_heads}\")\n",
        "print(f\"Head dimension: {head_dim}\")\n",
        "print(f\"Sequence length: {seq_len}\")\n",
        "print(f\"Device: {device}\")\n",
        "print(f\"Data type: {dtype}\")\n",
        "\n",
        "# Create model instances with bfloat16\n",
        "model_baseline = MultiHeadAttention(d_model, num_heads, dropout=0.0, dtype=dtype).to(device)\n",
        "model_compiled = MultiHeadAttention(d_model, num_heads, dropout=0.0, dtype=dtype).to(device)\n",
        "\n",
        "# Load same weights for fair comparison\n",
        "model_compiled.load_state_dict(model_baseline.state_dict())\n",
        "\n",
        "# Compile the model with torch.compile (default settings)\n",
        "model_compiled = torch.compile(model_compiled)\n",
        "\n",
        "# Create sample input data with bfloat16\n",
        "sample_input = torch.randn(batch_size, seq_len, d_model, device=device, dtype=dtype)\n",
        "\n",
        "print(f\"\\nInput tensor shape: {sample_input.shape}\")\n",
        "print(f\"Input tensor dtype: {sample_input.dtype}\")\n",
        "print(f\"Memory usage: {sample_input.numel() * sample_input.element_size() / 1024**2:.2f} MB\")\n"
      ]
    },
    {
      "cell_type": "code",
      "execution_count": 6,
      "metadata": {},
      "outputs": [],
      "source": [
        "import time\n",
        "\n",
        "def benchmark_model(model, input_tensor, num_runs=100):\n",
        "    \"\"\"Benchmark model performance\"\"\"\n",
        "    model.eval()\n",
        "    times = []\n",
        "    \n",
        "    with torch.no_grad():\n",
        "        for i in range(num_runs):\n",
        "            if torch.cuda.is_available():\n",
        "                torch.cuda.synchronize()\n",
        "            \n",
        "            start = time.perf_counter()\n",
        "            output, _ = model(input_tensor, input_tensor, input_tensor)\n",
        "            \n",
        "            if torch.cuda.is_available():\n",
        "                torch.cuda.synchronize()\n",
        "            \n",
        "            end = time.perf_counter()\n",
        "            times.append((end - start) * 1000)  # Convert to milliseconds\n",
        "    \n",
        "    return times\n"
      ]
    },
    {
      "cell_type": "code",
      "execution_count": 7,
      "metadata": {},
      "outputs": [
        {
          "name": "stdout",
          "output_type": "stream",
          "text": [
            "Profiling baseline model...\n",
            "Model dtype: torch.bfloat16\n",
            "Warming up baseline model...\n"
          ]
        },
        {
          "name": "stdout",
          "output_type": "stream",
          "text": [
            "Baseline model performance:\n",
            "  Median: 5.85 ms\n",
            "  Mean:   5.85 ms\n",
            "  Std:    0.02 ms\n",
            "  Min:    5.84 ms\n",
            "  Max:    6.03 ms\n"
          ]
        }
      ],
      "source": [
        "# Profile baseline model\n",
        "print(\"Profiling baseline model...\")\n",
        "print(f\"Model dtype: {next(model_baseline.parameters()).dtype}\")\n",
        "\n",
        "# Warm up\n",
        "print(\"Warming up baseline model...\")\n",
        "with torch.no_grad():\n",
        "    for _ in range(10):\n",
        "        _ = model_baseline(sample_input, sample_input, sample_input)\n",
        "torch.cuda.synchronize() if torch.cuda.is_available() else None\n",
        "\n",
        "# Benchmark\n",
        "baseline_times = benchmark_model(model_baseline, sample_input, num_runs=100)\n",
        "\n",
        "print(f\"Baseline model performance:\")\n",
        "print(f\"  Median: {np.median(baseline_times):.2f} ms\")\n",
        "print(f\"  Mean:   {np.mean(baseline_times):.2f} ms\")\n",
        "print(f\"  Std:    {np.std(baseline_times):.2f} ms\")\n",
        "print(f\"  Min:    {np.min(baseline_times):.2f} ms\")\n",
        "print(f\"  Max:    {np.max(baseline_times):.2f} ms\")\n"
      ]
    },
    {
      "cell_type": "code",
      "execution_count": 8,
      "metadata": {},
      "outputs": [
        {
          "name": "stdout",
          "output_type": "stream",
          "text": [
            "Profiling torch.compile model...\n",
            "Compiled model dtype: torch.bfloat16\n",
            "Warming up compiled model (this may take a moment for first compilation)...\n"
          ]
        },
        {
          "name": "stdout",
          "output_type": "stream",
          "text": [
            "torch.compile model performance:\n",
            "  Median: 5.06 ms\n",
            "  Mean:   6.18 ms\n",
            "  Std:    11.21 ms\n",
            "  Min:    5.04 ms\n",
            "  Max:    117.73 ms\n",
            "\n",
            "Speedup with torch.compile: 1.16x\n"
          ]
        }
      ],
      "source": [
        "# Profile torch.compile model\n",
        "print(\"Profiling torch.compile model...\")\n",
        "print(f\"Compiled model dtype: {next(model_compiled.parameters()).dtype}\")\n",
        "\n",
        "# Warm up (important for compiled model to trigger compilation)\n",
        "print(\"Warming up compiled model (this may take a moment for first compilation)...\")\n",
        "with torch.no_grad():\n",
        "    for _ in range(10):\n",
        "        _ = model_compiled(sample_input, sample_input, sample_input)\n",
        "torch.cuda.synchronize() if torch.cuda.is_available() else None\n",
        "\n",
        "# Benchmark\n",
        "compiled_times = benchmark_model(model_compiled, sample_input, num_runs=100)\n",
        "\n",
        "print(f\"torch.compile model performance:\")\n",
        "print(f\"  Median: {np.median(compiled_times):.2f} ms\")\n",
        "print(f\"  Mean:   {np.mean(compiled_times):.2f} ms\")\n",
        "print(f\"  Std:    {np.std(compiled_times):.2f} ms\")\n",
        "print(f\"  Min:    {np.min(compiled_times):.2f} ms\")\n",
        "print(f\"  Max:    {np.max(compiled_times):.2f} ms\")\n",
        "\n",
        "# Calculate speedup\n",
        "speedup = np.median(baseline_times) / np.median(compiled_times)\n",
        "print(f\"\\nSpeedup with torch.compile: {speedup:.2f}x\")\n"
      ]
    },
    {
      "cell_type": "code",
      "execution_count": 9,
      "metadata": {},
      "outputs": [
        {
          "name": "stderr",
          "output_type": "stream",
          "text": [
            "<frozen importlib._bootstrap_external>:1241: FutureWarning: The cuda.cuda module is deprecated and will be removed in a future release, please switch to use the cuda.bindings.driver module instead.\n",
            "<frozen importlib._bootstrap_external>:1241: FutureWarning: The cuda.cudart module is deprecated and will be removed in a future release, please switch to use the cuda.bindings.runtime module instead.\n",
            "2025-06-29 17:11:35,021 - INFO - flashinfer.jit: Prebuilt kernels not found, using JIT backend\n"
          ]
        },
        {
          "name": "stdout",
          "output_type": "stream",
          "text": [
            "[TensorRT-LLM] TensorRT-LLM version: 1.0.0rc1\n"
          ]
        },
        {
          "name": "stderr",
          "output_type": "stream",
          "text": [
            "/root/python_env/lib/python3.11/site-packages/torch/utils/cpp_extension.py:2356: UserWarning: TORCH_CUDA_ARCH_LIST is not set, all archs for visible cards are included for compilation. \n",
            "If this is not desired, please set os.environ['TORCH_CUDA_ARCH_LIST'].\n",
            "  warnings.warn(\n"
          ]
        },
        {
          "name": "stdout",
          "output_type": "stream",
          "text": [
            "[06/29/2025-17:11:35] [TRT] [W] Functionality provided through tensorrt.plugin module is experimental.\n",
            "torch_tensorrt imported successfully\n",
            "Creating TensorRT optimized model...\n",
            "Attempting TensorRT compilation with bfloat16...\n"
          ]
        },
        {
          "name": "stderr",
          "output_type": "stream",
          "text": [
            "WARNING:py.warnings:/root/python_env/lib/python3.11/site-packages/torch_tensorrt/dynamo/utils.py:423: UserWarning: To copy construct from a tensor, it is recommended to use sourceTensor.detach().clone() or sourceTensor.detach().clone().requires_grad_(True), rather than torch.tensor(sourceTensor).\n",
            "  return torch.tensor(tensor).dtype\n",
            "\n"
          ]
        },
        {
          "name": "stdout",
          "output_type": "stream",
          "text": [
            "TensorRT optimization with bfloat16 completed!\n"
          ]
        }
      ],
      "source": [
        "\n",
        "import torch_tensorrt\n",
        "print(\"torch_tensorrt imported successfully\")\n",
        "\n",
        "# Create TensorRT optimized model\n",
        "print(\"Creating TensorRT optimized model...\")\n",
        "model_tensorrt = MultiHeadAttention(d_model, num_heads, dropout=0.0, dtype=dtype).to(device)\n",
        "model_tensorrt.load_state_dict(model_baseline.state_dict())\n",
        "model_tensorrt.eval()\n",
        "\n",
        "print(\"Attempting TensorRT compilation with bfloat16...\")\n",
        "with torch.no_grad():\n",
        "    model_tensorrt = torch_tensorrt.compile(\n",
        "        model_tensorrt,\n",
        "        inputs=[\n",
        "            torch_tensorrt.Input(shape=[batch_size, seq_len, d_model], dtype=torch.bfloat16),\n",
        "            torch_tensorrt.Input(shape=[batch_size, seq_len, d_model], dtype=torch.bfloat16),\n",
        "            torch_tensorrt.Input(shape=[batch_size, seq_len, d_model], dtype=torch.bfloat16)\n",
        "        ],\n",
        "        enabled_precisions={torch.bfloat16, torch.float16}\n",
        "    )\n",
        "print(\"TensorRT optimization with bfloat16 completed!\")\n"
      ]
    },
    {
      "cell_type": "code",
      "execution_count": 10,
      "metadata": {},
      "outputs": [
        {
          "name": "stdout",
          "output_type": "stream",
          "text": [
            "Profiling TensorRT model...\n",
            "Warming up TensorRT model...\n"
          ]
        },
        {
          "name": "stdout",
          "output_type": "stream",
          "text": [
            "TensorRT model performance:\n",
            "  Median: 6.17 ms\n",
            "  Mean:   6.17 ms\n",
            "  Std:    0.01 ms\n",
            "  Min:    6.15 ms\n",
            "  Max:    6.21 ms\n",
            "\n",
            "Speedup with TensorRT: 0.95x\n"
          ]
        }
      ],
      "source": [
        "\n",
        "print(\"Profiling TensorRT model...\")\n",
        "tensorrt_input = sample_input\n",
        "\n",
        "# Warm up\n",
        "print(\"Warming up TensorRT model...\")\n",
        "with torch.no_grad():\n",
        "    for _ in range(10):\n",
        "        _ = model_tensorrt(tensorrt_input, tensorrt_input, tensorrt_input)\n",
        "torch.cuda.synchronize() if torch.cuda.is_available() else None\n",
        "\n",
        "# Benchmark\n",
        "tensorrt_times = benchmark_model(model_tensorrt, tensorrt_input, num_runs=100)\n",
        "\n",
        "print(f\"TensorRT model performance:\")\n",
        "print(f\"  Median: {np.median(tensorrt_times):.2f} ms\")\n",
        "print(f\"  Mean:   {np.mean(tensorrt_times):.2f} ms\")\n",
        "print(f\"  Std:    {np.std(tensorrt_times):.2f} ms\")\n",
        "print(f\"  Min:    {np.min(tensorrt_times):.2f} ms\")\n",
        "print(f\"  Max:    {np.max(tensorrt_times):.2f} ms\")\n",
        "\n",
        "# Calculate speedup vs baseline\n",
        "tensorrt_speedup = np.median(baseline_times) / np.median(tensorrt_times)\n",
        "print(f\"\\nSpeedup with TensorRT: {tensorrt_speedup:.2f}x\")\n"
      ]
    },
    {
      "cell_type": "code",
      "execution_count": 11,
      "metadata": {},
      "outputs": [
        {
          "name": "stdout",
          "output_type": "stream",
          "text": [
            "============================================================\n",
            "PERFORMANCE SUMMARY\n",
            "============================================================\n",
            "Model           Median (ms)   Std (ms)     Speedup   \n",
            "----------------------------------------------------\n",
            "Baseline        5.85          0.02         1.00      x\n",
            "torch.compile   5.06          11.21        1.16      x\n",
            "TensorRT        6.17          0.01         0.95      x\n"
          ]
        },
        {
          "data": {
            "image/png": "[encoded data removed]",
            "text/plain": [
              "<Figure size 1200x800 with 4 Axes>"
            ]
          },
          "metadata": {},
          "output_type": "display_data"
        },
        {
          "name": "stdout",
          "output_type": "stream",
          "text": [
            "\n",
            "Model Statistics:\n",
            "Total Parameters: 4,198,400\n",
            "Parameter dtype: torch.bfloat16\n",
            "Bytes per parameter: 2\n",
            "Model Memory: 8.01 MB\n",
            "Input Memory per batch: 128.00 MB\n",
            "Memory savings vs float32: 8.01 MB\n"
          ]
        }
      ],
      "source": [
        "# Performance Comparison and Visualization\n",
        "print(\"=\" * 60)\n",
        "print(\"PERFORMANCE SUMMARY\")\n",
        "print(\"=\" * 60)\n",
        "\n",
        "# Prepare data for visualization\n",
        "models = ['Baseline']\n",
        "median_times = [np.median(baseline_times)]\n",
        "std_times = [np.std(baseline_times)]\n",
        "\n",
        "models.append('torch.compile')\n",
        "median_times.append(np.median(compiled_times))\n",
        "std_times.append(np.std(compiled_times))\n",
        "\n",
        "if tensorrt_times is not None:\n",
        "    models.append('TensorRT')\n",
        "    median_times.append(np.median(tensorrt_times))\n",
        "    std_times.append(np.std(tensorrt_times))\n",
        "\n",
        "# Create comparison table\n",
        "print(f\"{'Model':<15} {'Median (ms)':<13} {'Std (ms)':<12} {'Speedup':<10}\")\n",
        "print(\"-\" * 52)\n",
        "for i, model in enumerate(models):\n",
        "    speedup = median_times[0] / median_times[i] if median_times[i] > 0 else 0\n",
        "    print(f\"{model:<15} {median_times[i]:<13.2f} {std_times[i]:<12.2f} {speedup:<10.2f}x\")\n",
        "\n",
        "# Create visualization\n",
        "plt.figure(figsize=(12, 8))\n",
        "\n",
        "# Bar plot with error bars\n",
        "plt.subplot(2, 2, 1)\n",
        "bars = plt.bar(models, median_times, yerr=std_times, capsize=5, alpha=0.7)\n",
        "plt.title('Median Execution Time Comparison')\n",
        "plt.ylabel('Time (ms)')\n",
        "plt.xticks(rotation=45)\n",
        "for i, bar in enumerate(bars):\n",
        "    height = bar.get_height()\n",
        "    plt.text(bar.get_x() + bar.get_width()/2., height + std_times[i],\n",
        "             f'{height:.1f}ms', ha='center', va='bottom')\n",
        "\n",
        "# Speedup comparison\n",
        "if len(models) > 1:\n",
        "    plt.subplot(2, 2, 2)\n",
        "    speedups = [median_times[0] / t for t in median_times]\n",
        "    bars = plt.bar(models, speedups, alpha=0.7, color='green')\n",
        "    plt.title('Speedup vs Baseline')\n",
        "    plt.ylabel('Speedup (x)')\n",
        "    plt.xticks(rotation=45)\n",
        "    plt.axhline(y=1, color='red', linestyle='--', alpha=0.5)\n",
        "    for i, bar in enumerate(bars):\n",
        "        height = bar.get_height()\n",
        "        plt.text(bar.get_x() + bar.get_width()/2., height,\n",
        "                 f'{height:.2f}x', ha='center', va='bottom')\n",
        "\n",
        "# Distribution plots\n",
        "plt.subplot(2, 2, 3)\n",
        "plt.hist(baseline_times, alpha=0.5, label='Baseline', bins=20)\n",
        "plt.hist(compiled_times, alpha=0.5, label='torch.compile', bins=20)\n",
        "if tensorrt_times is not None:\n",
        "    plt.hist(tensorrt_times, alpha=0.5, label='TensorRT', bins=20)\n",
        "plt.xlabel('Execution Time (ms)')\n",
        "plt.ylabel('Frequency')\n",
        "plt.title('Execution Time Distribution')\n",
        "plt.legend()\n",
        "\n",
        "# Memory usage estimation\n",
        "plt.subplot(2, 2, 4)\n",
        "total_params = sum(p.numel() for p in model_baseline.parameters())\n",
        "memory_per_batch = sample_input.numel() * sample_input.element_size() / 1024**2\n",
        "\n",
        "# Calculate model memory based on actual dtype\n",
        "param_dtype = next(model_baseline.parameters()).dtype\n",
        "if param_dtype == torch.bfloat16 or param_dtype == torch.float16:\n",
        "    bytes_per_param = 2  # 16-bit\n",
        "    dtype_name = \"bfloat16/float16\"\n",
        "elif param_dtype == torch.float32:\n",
        "    bytes_per_param = 4  # 32-bit  \n",
        "    dtype_name = \"float32\"\n",
        "else:\n",
        "    bytes_per_param = 4  # fallback\n",
        "    dtype_name = str(param_dtype)\n",
        "\n",
        "model_memory = total_params * bytes_per_param / 1024**2\n",
        "\n",
        "categories = ['Input Data', 'Model Parameters']\n",
        "sizes = [memory_per_batch, model_memory]\n",
        "plt.pie(sizes, labels=categories, autopct='%1.1f%%')\n",
        "plt.title(f'Memory Usage Breakdown (MB)\\nUsing {dtype_name}')\n",
        "\n",
        "plt.tight_layout()\n",
        "plt.show()\n",
        "\n",
        "print(f\"\\nModel Statistics:\")\n",
        "print(f\"Total Parameters: {total_params:,}\")\n",
        "print(f\"Parameter dtype: {param_dtype}\")\n",
        "print(f\"Bytes per parameter: {bytes_per_param}\")\n",
        "print(f\"Model Memory: {model_memory:.2f} MB\")\n",
        "print(f\"Input Memory per batch: {memory_per_batch:.2f} MB\")\n",
        "print(f\"Memory savings vs float32: {((total_params * 4) - (total_params * bytes_per_param)) / 1024**2:.2f} MB\")\n"
      ]
    }
  ],
  "metadata": {
    "kernelspec": {
      "display_name": "Python (python_env)",
      "language": "python",
      "name": "python_env"
    },
    "language_info": {
      "codemirror_mode": {
        "name": "ipython",
        "version": 3
      },
      "file_extension": ".py",
      "mimetype": "text/x-python",
      "name": "python",
      "nbconvert_exporter": "python",
      "pygments_lexer": "ipython3",
      "version": "3.11.11"
    }
  },
  "nbformat": 4,
  "nbformat_minor": 2
}
